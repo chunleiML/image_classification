{
 "cells": [
  {
   "cell_type": "markdown",
   "metadata": {
    "collapsed": true
   },
   "source": [
    "# Image Classification\n",
    "In this project, you'll classify images from the [CIFAR-10 dataset](https://www.cs.toronto.edu/~kriz/cifar.html).  The dataset consists of airplanes, dogs, cats, and other objects. You'll preprocess the images, then train a convolutional neural network on all the samples. The images need to be normalized and the labels need to be one-hot encoded.  You'll get to apply what you learned and build a convolutional, max pooling, dropout, and fully connected layers.  At the end, you'll get to see your neural network's predictions on the sample images.\n",
    "## Get the Data\n",
    "Run the following cell to download the [CIFAR-10 dataset for python](https://www.cs.toronto.edu/~kriz/cifar-10-python.tar.gz)."
   ]
  },
  {
   "cell_type": "code",
   "execution_count": 1,
   "metadata": {},
   "outputs": [
    {
     "name": "stdout",
     "output_type": "stream",
     "text": [
      "All files found!\n"
     ]
    }
   ],
   "source": [
    "\"\"\"\n",
    "DON'T MODIFY ANYTHING IN THIS CELL THAT IS BELOW THIS LINE\n",
    "\"\"\"\n",
    "from urllib.request import urlretrieve\n",
    "from os.path import isfile, isdir\n",
    "from tqdm import tqdm\n",
    "import problem_unittests as tests\n",
    "import tarfile\n",
    "\n",
    "cifar10_dataset_folder_path = 'cifar-10-batches-py'\n",
    "\n",
    "class DLProgress(tqdm):\n",
    "    last_block = 0\n",
    "\n",
    "    def hook(self, block_num=1, block_size=1, total_size=None):\n",
    "        self.total = total_size\n",
    "        self.update((block_num - self.last_block) * block_size)\n",
    "        self.last_block = block_num\n",
    "\n",
    "if not isfile('cifar-10-python.tar.gz'):\n",
    "    with DLProgress(unit='B', unit_scale=True, miniters=1, desc='CIFAR-10 Dataset') as pbar:\n",
    "        urlretrieve(\n",
    "            'https://www.cs.toronto.edu/~kriz/cifar-10-python.tar.gz',\n",
    "            'cifar-10-python.tar.gz',\n",
    "            pbar.hook)\n",
    "\n",
    "if not isdir(cifar10_dataset_folder_path):\n",
    "    with tarfile.open('cifar-10-python.tar.gz') as tar:\n",
    "        tar.extractall()\n",
    "        tar.close()\n",
    "\n",
    "\n",
    "tests.test_folder_path(cifar10_dataset_folder_path)"
   ]
  },
  {
   "cell_type": "markdown",
   "metadata": {},
   "source": [
    "## Explore the Data\n",
    "The dataset is broken into batches to prevent your machine from running out of memory.  The CIFAR-10 dataset consists of 5 batches, named `data_batch_1`, `data_batch_2`, etc.. Each batch contains the labels and images that are one of the following:\n",
    "* airplane\n",
    "* automobile\n",
    "* bird\n",
    "* cat\n",
    "* deer\n",
    "* dog\n",
    "* frog\n",
    "* horse\n",
    "* ship\n",
    "* truck\n",
    "\n",
    "Understanding a dataset is part of making predictions on the data.  Play around with the code cell below by changing the `batch_id` and `sample_id`. The `batch_id` is the id for a batch (1-5). The `sample_id` is the id for a image and label pair in the batch.\n",
    "\n",
    "Ask yourself \"What are all possible labels?\", \"What is the range of values for the image data?\", \"Are the labels in order or random?\".  Answers to questions like these will help you preprocess the data and end up with better predictions."
   ]
  },
  {
   "cell_type": "code",
   "execution_count": 2,
   "metadata": {},
   "outputs": [
    {
     "name": "stdout",
     "output_type": "stream",
     "text": [
      "\n",
      "Stats of batch 2:\n",
      "Samples: 10000\n",
      "Label Counts: {0: 984, 1: 1007, 2: 1010, 3: 995, 4: 1010, 5: 988, 6: 1008, 7: 1026, 8: 987, 9: 985}\n",
      "First 20 Labels: [1, 6, 6, 8, 8, 3, 4, 6, 0, 6, 0, 3, 6, 6, 5, 4, 8, 3, 2, 6]\n",
      "\n",
      "Example of Image 5:\n",
      "Image - Min Value: 3 Max Value: 219\n",
      "Image - Shape: (32, 32, 3)\n",
      "Label - Label Id: 3 Name: cat\n"
     ]
    },
    {
     "data": {
      "image/png": "[encoded data removed]",
      "text/plain": [
       "<matplotlib.figure.Figure at 0x7f02bb094b00>"
      ]
     },
     "metadata": {
      "image/png": {
       "height": 250,
       "width": 253
      }
     },
     "output_type": "display_data"
    }
   ],
   "source": [
    "%matplotlib inline\n",
    "%config InlineBackend.figure_format = 'retina'\n",
    "\n",
    "import helper\n",
    "import numpy as np\n",
    "\n",
    "# Explore the dataset\n",
    "batch_id = 2\n",
    "sample_id = 5\n",
    "helper.display_stats(cifar10_dataset_folder_path, batch_id, sample_id)"
   ]
  },
  {
   "cell_type": "markdown",
   "metadata": {},
   "source": [
    "## Implement Preprocess Functions\n",
    "### Normalize\n",
    "In the cell below, implement the `normalize` function to take in image data, `x`, and return it as a normalized Numpy array. The values should be in the range of 0 to 1, inclusive.  The return object should be the same shape as `x`."
   ]
  },
  {
   "cell_type": "code",
   "execution_count": 3,
   "metadata": {},
   "outputs": [
    {
     "name": "stdout",
     "output_type": "stream",
     "text": [
      "Tests Passed\n"
     ]
    }
   ],
   "source": [
    "def normalize(x):\n",
    "    \"\"\"\n",
    "    Normalize a list of sample image data in the range of 0 to 1\n",
    "    : x: List of image data.  The image shape is (32, 32, 3)\n",
    "    : return: Numpy array of normalize data\n",
    "    \"\"\"\n",
    "    # TODO: Implement Function\n",
    "    return (x.astype(float))/255.\n",
    "\n",
    "\n",
    "\"\"\"\n",
    "DON'T MODIFY ANYTHING IN THIS CELL THAT IS BELOW THIS LINE\n",
    "\"\"\"\n",
    "tests.test_normalize(normalize)"
   ]
  },
  {
   "cell_type": "markdown",
   "metadata": {},
   "source": [
    "### One-hot encode\n",
    "Just like the previous code cell, you'll be implementing a function for preprocessing.  This time, you'll implement the `one_hot_encode` function. The input, `x`, are a list of labels.  Implement the function to return the list of labels as One-Hot encoded Numpy array.  The possible values for labels are 0 to 9. The one-hot encoding function should return the same encoding for each value between each call to `one_hot_encode`.  Make sure to save the map of encodings outside the function.\n",
    "\n",
    "**Hint:**\n",
    "\n",
    "Look into LabelBinarizer in the preprocessing module of sklearn."
   ]
  },
  {
   "cell_type": "code",
   "execution_count": 4,
   "metadata": {},
   "outputs": [
    {
     "name": "stdout",
     "output_type": "stream",
     "text": [
      "Tests Passed\n"
     ]
    }
   ],
   "source": [
    "def one_hot_encode(x):\n",
    "    \"\"\"\n",
    "    One hot encode a list of sample labels. Return a one-hot encoded vector for each label.\n",
    "    : x: List of sample Labels\n",
    "    : return: Numpy array of one-hot encoded labels\n",
    "    \"\"\"\n",
    "    # TODO: Implement Function\n",
    "    from sklearn import preprocessing\n",
    "    lb = preprocessing.LabelBinarizer()\n",
    "    lb.fit(range(10))\n",
    "    return lb.transform(x)\n",
    "    #return enc.fit(x)\n",
    "\n",
    "\n",
    "\"\"\"\n",
    "DON'T MODIFY ANYTHING IN THIS CELL THAT IS BELOW THIS LINE\n",
    "\"\"\"\n",
    "tests.test_one_hot_encode(one_hot_encode)"
   ]
  },
  {
   "cell_type": "markdown",
   "metadata": {},
   "source": [
    "### Randomize Data\n",
    "As you saw from exploring the data above, the order of the samples are randomized.  It doesn't hurt to randomize it again, but you don't need to for this dataset."
   ]
  },
  {
   "cell_type": "markdown",
   "metadata": {},
   "source": [
    "## Preprocess all the data and save it\n",
    "Running the code cell below will preprocess all the CIFAR-10 data and save it to file. The code below also uses 10% of the training data for validation."
   ]
  },
  {
   "cell_type": "code",
   "execution_count": 5,
   "metadata": {
    "collapsed": true
   },
   "outputs": [],
   "source": [
    "\"\"\"\n",
    "DON'T MODIFY ANYTHING IN THIS CELL\n",
    "\"\"\"\n",
    "# Preprocess Training, Validation, and Testing Data\n",
    "helper.preprocess_and_save_data(cifar10_dataset_folder_path, normalize, one_hot_encode)"
   ]
  },
  {
   "cell_type": "markdown",
   "metadata": {},
   "source": [
    "# Check Point\n",
    "This is your first checkpoint.  If you ever decide to come back to this notebook or have to restart the notebook, you can start from here.  The preprocessed data has been saved to disk."
   ]
  },
  {
   "cell_type": "code",
   "execution_count": 6,
   "metadata": {
    "collapsed": true
   },
   "outputs": [],
   "source": [
    "\"\"\"\n",
    "DON'T MODIFY ANYTHING IN THIS CELL\n",
    "\"\"\"\n",
    "import pickle\n",
    "import problem_unittests as tests\n",
    "import helper\n",
    "\n",
    "# Load the Preprocessed Validation data\n",
    "valid_features, valid_labels = pickle.load(open('preprocess_validation.p', mode='rb'))"
   ]
  },
  {
   "cell_type": "markdown",
   "metadata": {},
   "source": [
    "## Build the network\n",
    "For the neural network, you'll build each layer into a function.  Most of the code you've seen has been outside of functions. To test your code more thoroughly, we require that you put each layer in a function.  This allows us to give you better feedback and test for simple mistakes using our unittests before you submit your project.\n",
    "\n",
    ">**Note:** If you're finding it hard to dedicate enough time for this course each week, we've provided a small shortcut to this part of the project. In the next couple of problems, you'll have the option to use classes from the [TensorFlow Layers](https://www.tensorflow.org/api_docs/python/tf/layers) or [TensorFlow Layers (contrib)](https://www.tensorflow.org/api_guides/python/contrib.layers) packages to build each layer, except the layers you build in the \"Convolutional and Max Pooling Layer\" section.  TF Layers is similar to Keras's and TFLearn's abstraction to layers, so it's easy to pickup.\n",
    "\n",
    ">However, if you would like to get the most out of this course, try to solve all the problems _without_ using anything from the TF Layers packages. You **can** still use classes from other packages that happen to have the same name as ones you find in TF Layers! For example, instead of using the TF Layers version of the `conv2d` class, [tf.layers.conv2d](https://www.tensorflow.org/api_docs/python/tf/layers/conv2d), you would want to use the TF Neural Network version of `conv2d`, [tf.nn.conv2d](https://www.tensorflow.org/api_docs/python/tf/nn/conv2d). \n",
    "\n",
    "Let's begin!\n",
    "\n",
    "### Input\n",
    "The neural network needs to read the image data, one-hot encoded labels, and dropout keep probability. Implement the following functions\n",
    "* Implement `neural_net_image_input`\n",
    " * Return a [TF Placeholder](https://www.tensorflow.org/api_docs/python/tf/placeholder)\n",
    " * Set the shape using `image_shape` with batch size set to `None`.\n",
    " * Name the TensorFlow placeholder \"x\" using the TensorFlow `name` parameter in the [TF Placeholder](https://www.tensorflow.org/api_docs/python/tf/placeholder).\n",
    "* Implement `neural_net_label_input`\n",
    " * Return a [TF Placeholder](https://www.tensorflow.org/api_docs/python/tf/placeholder)\n",
    " * Set the shape using `n_classes` with batch size set to `None`.\n",
    " * Name the TensorFlow placeholder \"y\" using the TensorFlow `name` parameter in the [TF Placeholder](https://www.tensorflow.org/api_docs/python/tf/placeholder).\n",
    "* Implement `neural_net_keep_prob_input`\n",
    " * Return a [TF Placeholder](https://www.tensorflow.org/api_docs/python/tf/placeholder) for dropout keep probability.\n",
    " * Name the TensorFlow placeholder \"keep_prob\" using the TensorFlow `name` parameter in the [TF Placeholder](https://www.tensorflow.org/api_docs/python/tf/placeholder).\n",
    "\n",
    "These names will be used at the end of the project to load your saved model.\n",
    "\n",
    "Note: `None` for shapes in TensorFlow allow for a dynamic size."
   ]
  },
  {
   "cell_type": "code",
   "execution_count": 8,
   "metadata": {},
   "outputs": [
    {
     "name": "stdout",
     "output_type": "stream",
     "text": [
      "Image Input Tests Passed.\n",
      "Label Input Tests Passed.\n",
      "Keep Prob Tests Passed.\n"
     ]
    }
   ],
   "source": [
    "import tensorflow as tf\n",
    "\n",
    "def neural_net_image_input(image_shape):\n",
    "    \"\"\"\n",
    "    Return a Tensor for a batch of image input\n",
    "    : image_shape: Shape of the images\n",
    "    : return: Tensor for image input.\n",
    "    \"\"\"\n",
    "    # TODO: Implement Function\n",
    "    x = tf.placeholder(tf.float32, shape=[None, *image_shape], name='x')\n",
    "    return x\n",
    "\n",
    "def neural_net_label_input(n_classes):\n",
    "    \"\"\"\n",
    "    Return a Tensor for a batch of label input\n",
    "    : n_classes: Number of classes\n",
    "    : return: Tensor for label input.\n",
    "    \"\"\"\n",
    "    # TODO: Implement Function\n",
    "    y = tf.placeholder(tf.float32, (None, n_classes),'y')\n",
    "    return y\n",
    "\n",
    "\n",
    "def neural_net_keep_prob_input():\n",
    "    \"\"\"\n",
    "    Return a Tensor for keep probability\n",
    "    : return: Tensor for keep probability.\n",
    "    \"\"\"\n",
    "    # TODO: Implement Functiono\n",
    "    keep_prob = tf.placeholder(tf.float32, None, 'keep_prob')        \n",
    "    return keep_prob\n",
    "\n",
    "\n",
    "\"\"\"\n",
    "DON'T MODIFY ANYTHING IN THIS CELL THAT IS BELOW THIS LINE\n",
    "\"\"\"\n",
    "tf.reset_default_graph()\n",
    "tests.test_nn_image_inputs(neural_net_image_input)\n",
    "tests.test_nn_label_inputs(neural_net_label_input)\n",
    "tests.test_nn_keep_prob_inputs(neural_net_keep_prob_input)"
   ]
  },
  {
   "cell_type": "markdown",
   "metadata": {},
   "source": [
    "### Convolution and Max Pooling Layer\n",
    "Convolution layers have a lot of success with images. For this code cell, you should implement the function `conv2d_maxpool` to apply convolution then max pooling:\n",
    "* Create the weight and bias using `conv_ksize`, `conv_num_outputs` and the shape of `x_tensor`.\n",
    "* Apply a convolution to `x_tensor` using weight and `conv_strides`.\n",
    " * We recommend you use same padding, but you're welcome to use any padding.\n",
    "* Add bias\n",
    "* Add a nonlinear activation to the convolution.\n",
    "* Apply Max Pooling using `pool_ksize` and `pool_strides`.\n",
    " * We recommend you use same padding, but you're welcome to use any padding.\n",
    "\n",
    "**Note:** You **can't** use [TensorFlow Layers](https://www.tensorflow.org/api_docs/python/tf/layers) or [TensorFlow Layers (contrib)](https://www.tensorflow.org/api_guides/python/contrib.layers) for **this** layer, but you can still use TensorFlow's [Neural Network](https://www.tensorflow.org/api_docs/python/tf/nn) package. You may still use the shortcut option for all the **other** layers.\n",
    "\n",
    "** Hint: **\n",
    "\n",
    "When unpacking values as an argument in Python, look into the [unpacking](https://docs.python.org/3/tutorial/controlflow.html#unpacking-argument-lists) operator. "
   ]
  },
  {
   "cell_type": "code",
   "execution_count": 14,
   "metadata": {},
   "outputs": [
    {
     "name": "stdout",
     "output_type": "stream",
     "text": [
      "Tests Passed\n"
     ]
    }
   ],
   "source": [
    "def conv2d_maxpool(x_tensor, conv_num_outputs, conv_ksize, conv_strides, pool_ksize, pool_strides):\n",
    "    \"\"\"\n",
    "    Apply convolution then max pooling to x_tensor\n",
    "    :param x_tensor: TensorFlow Tensor\n",
    "    :param conv_num_outputs: Number of outputs for the convolutional layer\n",
    "    :param conv_ksize: kernal size 2-D Tuple for the convolutional layer\n",
    "    :param conv_strides: Stride 2-D Tuple for convolution\n",
    "    :param pool_ksize: kernal size 2-D Tuple for pool\n",
    "    :param pool_strides: Stride 2-D Tuple for pool\n",
    "    : return: A tensor that represents convolution and max pooling of x_tensor\n",
    "    \"\"\"\n",
    "    # TODO: Implement Function\n",
    "    shape = (*conv_ksize, x_tensor.get_shape().as_list()[-1], conv_num_outputs)\n",
    "    conv_weight = tf.Variable(tf.truncated_normal(shape=shape, mean=0.0, stddev=0.1))\n",
    "    conv_bias = tf.Variable(tf.zeros(conv_num_outputs))\n",
    "    conv_layer = tf.nn.conv2d(x_tensor, conv_weight, [1,*conv_strides, 1], padding='SAME')\n",
    "    conv_layer= tf.nn.bias_add(conv_layer, conv_bias)\n",
    "    conv_layer = tf.nn.max_pool(conv_layer, [1, *pool_ksize, 1], [1, *pool_strides, 1], padding = 'SAME')\n",
    "    conv_layer = tf.nn.relu(conv_layer)\n",
    "    return conv_layer\n",
    "\n",
    "\n",
    "\"\"\"\n",
    "DON'T MODIFY ANYTHING IN THIS CELL THAT IS BELOW THIS LINE\n",
    "\"\"\"\n",
    "tests.test_con_pool(conv2d_maxpool)"
   ]
  },
  {
   "cell_type": "markdown",
   "metadata": {},
   "source": [
    "### Flatten Layer\n",
    "Implement the `flatten` function to change the dimension of `x_tensor` from a 4-D tensor to a 2-D tensor.  The output should be the shape (*Batch Size*, *Flattened Image Size*). Shortcut option: you can use classes from the [TensorFlow Layers](https://www.tensorflow.org/api_docs/python/tf/layers) or [TensorFlow Layers (contrib)](https://www.tensorflow.org/api_guides/python/contrib.layers) packages for this layer. For more of a challenge, only use other TensorFlow packages."
   ]
  },
  {
   "cell_type": "code",
   "execution_count": 15,
   "metadata": {},
   "outputs": [
    {
     "name": "stdout",
     "output_type": "stream",
     "text": [
      "Tests Passed\n"
     ]
    }
   ],
   "source": [
    "def flatten(x_tensor):\n",
    "    \"\"\"\n",
    "    Flatten x_tensor to (Batch Size, Flattened Image Size)\n",
    "    : x_tensor: A tensor of size (Batch Size, ...), where ... are the image dimensions.\n",
    "    : return: A tensor of size (Batch Size, Flattened Image Size).\n",
    "    \"\"\"\n",
    "    # TODO: Implement Function\n",
    "    shape = x_tensor.get_shape().as_list()\n",
    "    x_tensor=tf.reshape(x_tensor, [-1,shape[1]*shape[2]*shape[3]])\n",
    "    return x_tensor\n",
    "\n",
    "\n",
    "\"\"\"\n",
    "DON'T MODIFY ANYTHING IN THIS CELL THAT IS BELOW THIS LINE\n",
    "\"\"\"\n",
    "tests.test_flatten(flatten)"
   ]
  },
  {
   "cell_type": "markdown",
   "metadata": {},
   "source": [
    "### Fully-Connected Layer\n",
    "Implement the `fully_conn` function to apply a fully connected layer to `x_tensor` with the shape (*Batch Size*, *num_outputs*). Shortcut option: you can use classes from the [TensorFlow Layers](https://www.tensorflow.org/api_docs/python/tf/layers) or [TensorFlow Layers (contrib)](https://www.tensorflow.org/api_guides/python/contrib.layers) packages for this layer. For more of a challenge, only use other TensorFlow packages."
   ]
  },
  {
   "cell_type": "code",
   "execution_count": 16,
   "metadata": {},
   "outputs": [
    {
     "name": "stdout",
     "output_type": "stream",
     "text": [
      "Tests Passed\n"
     ]
    }
   ],
   "source": [
    "def fully_conn(x_tensor, num_outputs):\n",
    "    \"\"\"\n",
    "    Apply a fully connected layer to x_tensor using weight and bias\n",
    "    : x_tensor: A 2-D tensor where the first dimension is batch size.\n",
    "    : num_outputs: The number of output that the new tensor should be.\n",
    "    : return: A 2-D tensor where the second dimension is num_outputs.\n",
    "    \"\"\"\n",
    "    # TODO: Implement Function\n",
    "    num_inputs = x_tensor.get_shape().as_list()[1]\n",
    "    fc_weights = tf.Variable(tf.truncated_normal((num_inputs, num_outputs), mean=0.0, stddev=0.1))\n",
    "    fc_bias = tf.Variable(tf.zeros(num_outputs))\n",
    "    fc_layer = tf.matmul(x_tensor, fc_weights)\n",
    "    fc_layer = tf.add(fc_layer, fc_bias)\n",
    "    fc_layer = tf.nn.relu(fc_layer)\n",
    "    return fc_layer\n",
    "    \n",
    "    \n",
    "\n",
    "\n",
    "\"\"\"\n",
    "DON'T MODIFY ANYTHING IN THIS CELL THAT IS BELOW THIS LINE\n",
    "\"\"\"\n",
    "tests.test_fully_conn(fully_conn)"
   ]
  },
  {
   "cell_type": "markdown",
   "metadata": {},
   "source": [
    "### Output Layer\n",
    "Implement the `output` function to apply a fully connected layer to `x_tensor` with the shape (*Batch Size*, *num_outputs*). Shortcut option: you can use classes from the [TensorFlow Layers](https://www.tensorflow.org/api_docs/python/tf/layers) or [TensorFlow Layers (contrib)](https://www.tensorflow.org/api_guides/python/contrib.layers) packages for this layer. For more of a challenge, only use other TensorFlow packages.\n",
    "\n",
    "**Note:** Activation, softmax, or cross entropy should **not** be applied to this."
   ]
  },
  {
   "cell_type": "code",
   "execution_count": 17,
   "metadata": {},
   "outputs": [
    {
     "name": "stdout",
     "output_type": "stream",
     "text": [
      "Tests Passed\n"
     ]
    }
   ],
   "source": [
    "def output(x_tensor, num_outputs):\n",
    "    \"\"\"\n",
    "    Apply a output layer to x_tensor using weight and bias\n",
    "    : x_tensor: A 2-D tensor where the first dimension is batch size.\n",
    "    : num_outputs: The number of output that the new tensor should be.\n",
    "    : return: A 2-D tensor where the second dimension is num_outputs.\n",
    "    \"\"\"\n",
    "    # TODO: Implement Function\n",
    "    num_inputs = x_tensor.get_shape().as_list()[1]\n",
    "    out_weights = tf.Variable(tf.truncated_normal((num_inputs, num_outputs), mean=0.0, stddev=0.1))\n",
    "    out_bias = tf.Variable(tf.zeros(num_outputs))\n",
    "    out_layer = tf.matmul(x_tensor, out_weights)\n",
    "    out_layer = tf.add(out_layer, out_bias)\n",
    "    return out_layer\n",
    "    \n",
    "\n",
    "\n",
    "\"\"\"\n",
    "DON'T MODIFY ANYTHING IN THIS CELL THAT IS BELOW THIS LINE\n",
    "\"\"\"\n",
    "tests.test_output(output)"
   ]
  },
  {
   "cell_type": "markdown",
   "metadata": {},
   "source": [
    "### Create Convolutional Model\n",
    "Implement the function `conv_net` to create a convolutional neural network model. The function takes in a batch of images, `x`, and outputs logits.  Use the layers you created above to create this model:\n",
    "\n",
    "* Apply 1, 2, or 3 Convolution and Max Pool layers\n",
    "* Apply a Flatten Layer\n",
    "* Apply 1, 2, or 3 Fully Connected Layers\n",
    "* Apply an Output Layer\n",
    "* Return the output\n",
    "* Apply [TensorFlow's Dropout](https://www.tensorflow.org/api_docs/python/tf/nn/dropout) to one or more layers in the model using `keep_prob`. "
   ]
  },
  {
   "cell_type": "code",
   "execution_count": 19,
   "metadata": {},
   "outputs": [
    {
     "name": "stdout",
     "output_type": "stream",
     "text": [
      "(?, 16, 16, 32)\n",
      "(?, 8, 8, 64)\n",
      "(?, 4096)\n",
      "(?, 16, 16, 32)\n",
      "(?, 8, 8, 64)\n",
      "(?, 4096)\n",
      "Neural Network Built!\n"
     ]
    }
   ],
   "source": [
    "def conv_net(x, keep_prob):\n",
    "    \"\"\"\n",
    "    Create a convolutional neural network model\n",
    "    : x: Placeholder tensor that holds image data.\n",
    "    : keep_prob: Placeholder tensor that hold dropout keep probability.\n",
    "    : return: Tensor that represents logits\n",
    "    \"\"\"\n",
    "    # TODO: Apply 1, 2, or 3 Convolution and Max Pool layers\n",
    "    #    Play around with different number of outputs, kernel size and stride\n",
    "    # Function Definition from Above:\n",
    "    #    conv2d_maxpool(x_tensor, conv_num_outputs, conv_ksize, conv_strides, pool_ksize, pool_strides)\n",
    "    con_layer = x\n",
    "    #con_layer = conv2d_maxpool(con_layer, 128, (6,6), (2,2), (4,4), (2,2))\n",
    "    #print(con_layer.get_shape())\n",
    "    con_layer = conv2d_maxpool(con_layer, 32, (5,5), (1,1), (3,3), (2,2))\n",
    "    print(con_layer.get_shape())\n",
    "    con_layer = conv2d_maxpool(con_layer, 64, (5,5), (1,1), (3,3), (2,2))\n",
    "    print(con_layer.get_shape())\n",
    "    # TODO: Apply a Flatten Layer\n",
    "    # Function Definition from Above:\n",
    "    #   flatten(x_tensor)\n",
    "    fla_layer = flatten(con_layer)\n",
    "    print(fla_layer.get_shape())\n",
    "\n",
    "    # TODO: Apply 1, 2, or 3 Fully Connected Layers\n",
    "    #    Play around with different number of outputs\n",
    "    # Function Definition from Above:\n",
    "    #   fully_conn(x_tensor, num_outputs)\n",
    "    full_layer = fully_conn(fla_layer, 256)\n",
    "    full_layer = tf.nn.dropout(full_layer, keep_prob)\n",
    "    full_layer = fully_conn(full_layer, 256)\n",
    "    full_layer = tf.nn.dropout(full_layer, keep_prob)\n",
    "    \n",
    "    # TODO: Apply an Output Layer\n",
    "    #    Set this to the number of classes\n",
    "    # Function Definition from Above:\n",
    "    #   output(x_tensor, num_outputs)\n",
    "    out_layer = output(full_layer, 10)\n",
    "    \n",
    "    # TODO: return output\n",
    "    return out_layer\n",
    "\n",
    "\n",
    "\"\"\"\n",
    "DON'T MODIFY ANYTHING IN THIS CELL THAT IS BELOW THIS LINE\n",
    "\"\"\"\n",
    "\n",
    "##############################\n",
    "## Build the Neural Network ##\n",
    "##############################\n",
    "\n",
    "# Remove previous weights, bias, inputs, etc..\n",
    "tf.reset_default_graph()\n",
    "\n",
    "# Inputs\n",
    "x = neural_net_image_input((32, 32, 3))\n",
    "y = neural_net_label_input(10)\n",
    "keep_prob = neural_net_keep_prob_input()\n",
    "\n",
    "# Model\n",
    "logits = conv_net(x, keep_prob)\n",
    "\n",
    "# Name logits Tensor, so that is can be loaded from disk after training\n",
    "logits = tf.identity(logits, name='logits')\n",
    "\n",
    "# Loss and Optimizer\n",
    "cost = tf.reduce_mean(tf.nn.softmax_cross_entropy_with_logits(logits=logits, labels=y))\n",
    "optimizer = tf.train.AdamOptimizer().minimize(cost)\n",
    "\n",
    "# Accuracy\n",
    "correct_pred = tf.equal(tf.argmax(logits, 1), tf.argmax(y, 1))\n",
    "accuracy = tf.reduce_mean(tf.cast(correct_pred, tf.float32), name='accuracy')\n",
    "\n",
    "tests.test_conv_net(conv_net)"
   ]
  },
  {
   "cell_type": "markdown",
   "metadata": {},
   "source": [
    "## Train the Neural Network\n",
    "### Single Optimization\n",
    "Implement the function `train_neural_network` to do a single optimization.  The optimization should use `optimizer` to optimize in `session` with a `feed_dict` of the following:\n",
    "* `x` for image input\n",
    "* `y` for labels\n",
    "* `keep_prob` for keep probability for dropout\n",
    "\n",
    "This function will be called for each batch, so `tf.global_variables_initializer()` has already been called.\n",
    "\n",
    "Note: Nothing needs to be returned. This function is only optimizing the neural network."
   ]
  },
  {
   "cell_type": "code",
   "execution_count": 20,
   "metadata": {},
   "outputs": [
    {
     "name": "stdout",
     "output_type": "stream",
     "text": [
      "Tests Passed\n"
     ]
    }
   ],
   "source": [
    "def train_neural_network(session, optimizer, keep_probability, feature_batch, label_batch):\n",
    "    \"\"\"\n",
    "    Optimize the session on a batch of images and labels\n",
    "    : session: Current TensorFlow session\n",
    "    : optimizer: TensorFlow optimizer function\n",
    "    : keep_probability: keep probability\n",
    "    : feature_batch: Batch of Numpy image data\n",
    "    : label_batch: Batch of Numpy label data\n",
    "    \"\"\"\n",
    "    # TODO: Implement Function\n",
    "    session.run(optimizer, feed_dict={x: feature_batch, y: label_batch, keep_prob: keep_probability})\n",
    "\n",
    "\n",
    "\"\"\"\n",
    "DON'T MODIFY ANYTHING IN THIS CELL THAT IS BELOW THIS LINE\n",
    "\"\"\"\n",
    "tests.test_train_nn(train_neural_network)"
   ]
  },
  {
   "cell_type": "markdown",
   "metadata": {},
   "source": [
    "### Show Stats\n",
    "Implement the function `print_stats` to print loss and validation accuracy.  Use the global variables `valid_features` and `valid_labels` to calculate validation accuracy.  Use a keep probability of `1.0` to calculate the loss and validation accuracy."
   ]
  },
  {
   "cell_type": "code",
   "execution_count": 22,
   "metadata": {
    "collapsed": true
   },
   "outputs": [],
   "source": [
    "def print_stats(session, feature_batch, label_batch, cost, accuracy):\n",
    "    \"\"\"\n",
    "    Print information about loss and validation accuracy\n",
    "    : session: Current TensorFlow session\n",
    "    : feature_batch: Batch of Numpy image data\n",
    "    : label_batch: Batch of Numpy label data\n",
    "    : cost: TensorFlow cost function\n",
    "    : accuracy: TensorFlow accuracy function  \n",
    "    \"\"\"\n",
    "    # TODO: Implement Function\n",
    "    cost_value = session.run(cost, feed_dict={x: feature_batch, y: label_batch, keep_prob: 1.0})\n",
    "    accuracy_value = session.run(accuracy, feed_dict={x: valid_features, y: valid_labels, keep_prob: 1.0})\n",
    "    print('training loss:{:.5f}\\t validation accuracy:{:.5f}'.format(cost_value, accuracy_value))"
   ]
  },
  {
   "cell_type": "markdown",
   "metadata": {},
   "source": [
    "### Hyperparameters\n",
    "Tune the following parameters:\n",
    "* Set `epochs` to the number of iterations until the network stops learning or start overfitting\n",
    "* Set `batch_size` to the highest number that your machine has memory for.  Most people set them to common sizes of memory:\n",
    " * 64\n",
    " * 128\n",
    " * 256\n",
    " * ...\n",
    "* Set `keep_probability` to the probability of keeping a node using dropout"
   ]
  },
  {
   "cell_type": "code",
   "execution_count": 26,
   "metadata": {
    "collapsed": true
   },
   "outputs": [],
   "source": [
    "# TODO: Tune Parameters\n",
    "epochs = 25\n",
    "batch_size = 128\n",
    "keep_probability = 0.5"
   ]
  },
  {
   "cell_type": "markdown",
   "metadata": {},
   "source": [
    "### Train on a Single CIFAR-10 Batch\n",
    "Instead of training the neural network on all the CIFAR-10 batches of data, let's use a single batch. This should save time while you iterate on the model to get a better accuracy.  Once the final validation accuracy is 50% or greater, run the model on all the data in the next section."
   ]
  },
  {
   "cell_type": "code",
   "execution_count": 27,
   "metadata": {},
   "outputs": [
    {
     "name": "stdout",
     "output_type": "stream",
     "text": [
      "Checking the Training on a Single Batch...\n",
      "Epoch  1, CIFAR-10 Batch 1:  training loss:2.12119\t validation accuracy:0.31760\n",
      "Epoch  2, CIFAR-10 Batch 1:  training loss:1.90158\t validation accuracy:0.39800\n",
      "Epoch  3, CIFAR-10 Batch 1:  training loss:1.72255\t validation accuracy:0.43920\n",
      "Epoch  4, CIFAR-10 Batch 1:  training loss:1.57627\t validation accuracy:0.46500\n",
      "Epoch  5, CIFAR-10 Batch 1:  training loss:1.37783\t validation accuracy:0.47420\n",
      "Epoch  6, CIFAR-10 Batch 1:  training loss:1.28281\t validation accuracy:0.49260\n",
      "Epoch  7, CIFAR-10 Batch 1:  training loss:1.15333\t validation accuracy:0.50880\n",
      "Epoch  8, CIFAR-10 Batch 1:  training loss:1.04100\t validation accuracy:0.53920\n",
      "Epoch  9, CIFAR-10 Batch 1:  training loss:0.90228\t validation accuracy:0.53300\n",
      "Epoch 10, CIFAR-10 Batch 1:  training loss:0.79100\t validation accuracy:0.54020\n",
      "Epoch 11, CIFAR-10 Batch 1:  training loss:0.69131\t validation accuracy:0.55060\n",
      "Epoch 12, CIFAR-10 Batch 1:  training loss:0.61435\t validation accuracy:0.56820\n",
      "Epoch 13, CIFAR-10 Batch 1:  training loss:0.56485\t validation accuracy:0.56540\n",
      "Epoch 14, CIFAR-10 Batch 1:  training loss:0.53247\t validation accuracy:0.58560\n",
      "Epoch 15, CIFAR-10 Batch 1:  training loss:0.46217\t validation accuracy:0.58200\n",
      "Epoch 16, CIFAR-10 Batch 1:  training loss:0.41427\t validation accuracy:0.59620\n",
      "Epoch 17, CIFAR-10 Batch 1:  training loss:0.32437\t validation accuracy:0.60740\n",
      "Epoch 18, CIFAR-10 Batch 1:  training loss:0.30885\t validation accuracy:0.60880\n",
      "Epoch 19, CIFAR-10 Batch 1:  training loss:0.26241\t validation accuracy:0.60420\n",
      "Epoch 20, CIFAR-10 Batch 1:  training loss:0.21680\t validation accuracy:0.61180\n",
      "Epoch 21, CIFAR-10 Batch 1:  training loss:0.21688\t validation accuracy:0.61340\n",
      "Epoch 22, CIFAR-10 Batch 1:  training loss:0.20815\t validation accuracy:0.60360\n",
      "Epoch 23, CIFAR-10 Batch 1:  training loss:0.14701\t validation accuracy:0.60660\n",
      "Epoch 24, CIFAR-10 Batch 1:  training loss:0.14868\t validation accuracy:0.61100\n",
      "Epoch 25, CIFAR-10 Batch 1:  training loss:0.13068\t validation accuracy:0.62000\n"
     ]
    }
   ],
   "source": [
    "\"\"\"\n",
    "DON'T MODIFY ANYTHING IN THIS CELL\n",
    "\"\"\"\n",
    "print('Checking the Training on a Single Batch...')\n",
    "with tf.Session() as sess:\n",
    "    # Initializing the variables\n",
    "    sess.run(tf.global_variables_initializer())\n",
    "    \n",
    "    # Training cycle\n",
    "    for epoch in range(epochs):\n",
    "        batch_i = 1\n",
    "        for batch_features, batch_labels in helper.load_preprocess_training_batch(batch_i, batch_size):\n",
    "            train_neural_network(sess, optimizer, keep_probability, batch_features, batch_labels)\n",
    "        print('Epoch {:>2}, CIFAR-10 Batch {}:  '.format(epoch + 1, batch_i), end='')\n",
    "        print_stats(sess, batch_features, batch_labels, cost, accuracy)"
   ]
  },
  {
   "cell_type": "markdown",
   "metadata": {},
   "source": [
    "### Fully Train the Model\n",
    "Now that you got a good accuracy with a single CIFAR-10 batch, try it with all five batches."
   ]
  },
  {
   "cell_type": "code",
   "execution_count": 28,
   "metadata": {},
   "outputs": [
    {
     "name": "stdout",
     "output_type": "stream",
     "text": [
      "Training...\n",
      "Epoch  1, CIFAR-10 Batch 1:  training loss:2.17098\t validation accuracy:0.24440\n",
      "Epoch  1, CIFAR-10 Batch 2:  training loss:1.81067\t validation accuracy:0.36700\n",
      "Epoch  1, CIFAR-10 Batch 3:  training loss:1.54221\t validation accuracy:0.41800\n",
      "Epoch  1, CIFAR-10 Batch 4:  training loss:1.57703\t validation accuracy:0.46780\n",
      "Epoch  1, CIFAR-10 Batch 5:  training loss:1.56970\t validation accuracy:0.46680\n",
      "Epoch  2, CIFAR-10 Batch 1:  training loss:1.63138\t validation accuracy:0.47520\n",
      "Epoch  2, CIFAR-10 Batch 2:  training loss:1.35946\t validation accuracy:0.50840\n",
      "Epoch  2, CIFAR-10 Batch 3:  training loss:1.21845\t validation accuracy:0.52720\n",
      "Epoch  2, CIFAR-10 Batch 4:  training loss:1.29397\t validation accuracy:0.54100\n",
      "Epoch  2, CIFAR-10 Batch 5:  training loss:1.25778\t validation accuracy:0.53820\n",
      "Epoch  3, CIFAR-10 Batch 1:  training loss:1.23799\t validation accuracy:0.56560\n",
      "Epoch  3, CIFAR-10 Batch 2:  training loss:1.10637\t validation accuracy:0.56760\n",
      "Epoch  3, CIFAR-10 Batch 3:  training loss:0.99081\t validation accuracy:0.57400\n",
      "Epoch  3, CIFAR-10 Batch 4:  training loss:1.13801\t validation accuracy:0.58820\n",
      "Epoch  3, CIFAR-10 Batch 5:  training loss:0.95528\t validation accuracy:0.58540\n",
      "Epoch  4, CIFAR-10 Batch 1:  training loss:1.01785\t validation accuracy:0.58480\n",
      "Epoch  4, CIFAR-10 Batch 2:  training loss:0.92335\t validation accuracy:0.59040\n",
      "Epoch  4, CIFAR-10 Batch 3:  training loss:0.77585\t validation accuracy:0.59660\n",
      "Epoch  4, CIFAR-10 Batch 4:  training loss:0.96335\t validation accuracy:0.62040\n",
      "Epoch  4, CIFAR-10 Batch 5:  training loss:0.77672\t validation accuracy:0.63140\n",
      "Epoch  5, CIFAR-10 Batch 1:  training loss:0.86280\t validation accuracy:0.63420\n",
      "Epoch  5, CIFAR-10 Batch 2:  training loss:0.80820\t validation accuracy:0.64200\n",
      "Epoch  5, CIFAR-10 Batch 3:  training loss:0.71688\t validation accuracy:0.64140\n",
      "Epoch  5, CIFAR-10 Batch 4:  training loss:0.83550\t validation accuracy:0.65960\n",
      "Epoch  5, CIFAR-10 Batch 5:  training loss:0.69500\t validation accuracy:0.63440\n",
      "Epoch  6, CIFAR-10 Batch 1:  training loss:0.66653\t validation accuracy:0.65480\n",
      "Epoch  6, CIFAR-10 Batch 2:  training loss:0.70974\t validation accuracy:0.65740\n",
      "Epoch  6, CIFAR-10 Batch 3:  training loss:0.59964\t validation accuracy:0.65040\n",
      "Epoch  6, CIFAR-10 Batch 4:  training loss:0.74961\t validation accuracy:0.64320\n",
      "Epoch  6, CIFAR-10 Batch 5:  training loss:0.56191\t validation accuracy:0.67960\n",
      "Epoch  7, CIFAR-10 Batch 1:  training loss:0.64570\t validation accuracy:0.67000\n",
      "Epoch  7, CIFAR-10 Batch 2:  training loss:0.70420\t validation accuracy:0.66340\n",
      "Epoch  7, CIFAR-10 Batch 3:  training loss:0.53772\t validation accuracy:0.67600\n",
      "Epoch  7, CIFAR-10 Batch 4:  training loss:0.61929\t validation accuracy:0.66500\n",
      "Epoch  7, CIFAR-10 Batch 5:  training loss:0.47360\t validation accuracy:0.68840\n",
      "Epoch  8, CIFAR-10 Batch 1:  training loss:0.57850\t validation accuracy:0.66540\n",
      "Epoch  8, CIFAR-10 Batch 2:  training loss:0.65221\t validation accuracy:0.67900\n",
      "Epoch  8, CIFAR-10 Batch 3:  training loss:0.43032\t validation accuracy:0.68500\n",
      "Epoch  8, CIFAR-10 Batch 4:  training loss:0.52393\t validation accuracy:0.67740\n",
      "Epoch  8, CIFAR-10 Batch 5:  training loss:0.39074\t validation accuracy:0.68760\n",
      "Epoch  9, CIFAR-10 Batch 1:  training loss:0.44767\t validation accuracy:0.69040\n",
      "Epoch  9, CIFAR-10 Batch 2:  training loss:0.50268\t validation accuracy:0.69600\n",
      "Epoch  9, CIFAR-10 Batch 3:  training loss:0.39696\t validation accuracy:0.69120\n",
      "Epoch  9, CIFAR-10 Batch 4:  training loss:0.47031\t validation accuracy:0.66980\n",
      "Epoch  9, CIFAR-10 Batch 5:  training loss:0.41537\t validation accuracy:0.68220\n",
      "Epoch 10, CIFAR-10 Batch 1:  training loss:0.35358\t validation accuracy:0.69820\n",
      "Epoch 10, CIFAR-10 Batch 2:  training loss:0.40363\t validation accuracy:0.69820\n",
      "Epoch 10, CIFAR-10 Batch 3:  training loss:0.39164\t validation accuracy:0.68000\n",
      "Epoch 10, CIFAR-10 Batch 4:  training loss:0.45481\t validation accuracy:0.69020\n",
      "Epoch 10, CIFAR-10 Batch 5:  training loss:0.29197\t validation accuracy:0.69700\n",
      "Epoch 11, CIFAR-10 Batch 1:  training loss:0.37031\t validation accuracy:0.70160\n",
      "Epoch 11, CIFAR-10 Batch 2:  training loss:0.42570\t validation accuracy:0.71240\n",
      "Epoch 11, CIFAR-10 Batch 3:  training loss:0.29625\t validation accuracy:0.69840\n",
      "Epoch 11, CIFAR-10 Batch 4:  training loss:0.35807\t validation accuracy:0.70780\n",
      "Epoch 11, CIFAR-10 Batch 5:  training loss:0.30725\t validation accuracy:0.70940\n",
      "Epoch 12, CIFAR-10 Batch 1:  training loss:0.29155\t validation accuracy:0.71140\n",
      "Epoch 12, CIFAR-10 Batch 2:  training loss:0.36964\t validation accuracy:0.71420\n",
      "Epoch 12, CIFAR-10 Batch 3:  training loss:0.30116\t validation accuracy:0.70720\n",
      "Epoch 12, CIFAR-10 Batch 4:  training loss:0.30366\t validation accuracy:0.70340\n",
      "Epoch 12, CIFAR-10 Batch 5:  training loss:0.26990\t validation accuracy:0.70720\n",
      "Epoch 13, CIFAR-10 Batch 1:  training loss:0.27508\t validation accuracy:0.71500\n",
      "Epoch 13, CIFAR-10 Batch 2:  training loss:0.30984\t validation accuracy:0.70540\n",
      "Epoch 13, CIFAR-10 Batch 3:  training loss:0.25380\t validation accuracy:0.70960\n",
      "Epoch 13, CIFAR-10 Batch 4:  training loss:0.27971\t validation accuracy:0.70300\n",
      "Epoch 13, CIFAR-10 Batch 5:  training loss:0.20946\t validation accuracy:0.71120\n",
      "Epoch 14, CIFAR-10 Batch 1:  training loss:0.20421\t validation accuracy:0.72200\n",
      "Epoch 14, CIFAR-10 Batch 2:  training loss:0.26306\t validation accuracy:0.72220\n",
      "Epoch 14, CIFAR-10 Batch 3:  training loss:0.23368\t validation accuracy:0.70300\n",
      "Epoch 14, CIFAR-10 Batch 4:  training loss:0.27931\t validation accuracy:0.70340\n",
      "Epoch 14, CIFAR-10 Batch 5:  training loss:0.21976\t validation accuracy:0.71220\n",
      "Epoch 15, CIFAR-10 Batch 1:  training loss:0.23369\t validation accuracy:0.70760\n",
      "Epoch 15, CIFAR-10 Batch 2:  training loss:0.25325\t validation accuracy:0.70900\n",
      "Epoch 15, CIFAR-10 Batch 3:  training loss:0.17088\t validation accuracy:0.71800\n",
      "Epoch 15, CIFAR-10 Batch 4:  training loss:0.25149\t validation accuracy:0.71060\n",
      "Epoch 15, CIFAR-10 Batch 5:  training loss:0.17664\t validation accuracy:0.71300\n",
      "Epoch 16, CIFAR-10 Batch 1:  training loss:0.19215\t validation accuracy:0.72360\n",
      "Epoch 16, CIFAR-10 Batch 2:  training loss:0.20790\t validation accuracy:0.72280\n",
      "Epoch 16, CIFAR-10 Batch 3:  training loss:0.16764\t validation accuracy:0.70800\n",
      "Epoch 16, CIFAR-10 Batch 4:  training loss:0.24163\t validation accuracy:0.72340\n",
      "Epoch 16, CIFAR-10 Batch 5:  training loss:0.18131\t validation accuracy:0.71200\n",
      "Epoch 17, CIFAR-10 Batch 1:  training loss:0.15991\t validation accuracy:0.72080\n",
      "Epoch 17, CIFAR-10 Batch 2:  training loss:0.18147\t validation accuracy:0.72120\n",
      "Epoch 17, CIFAR-10 Batch 3:  training loss:0.11020\t validation accuracy:0.72280\n",
      "Epoch 17, CIFAR-10 Batch 4:  training loss:0.23711\t validation accuracy:0.70820\n",
      "Epoch 17, CIFAR-10 Batch 5:  training loss:0.16466\t validation accuracy:0.71440\n",
      "Epoch 18, CIFAR-10 Batch 1:  training loss:0.22159\t validation accuracy:0.71960\n",
      "Epoch 18, CIFAR-10 Batch 2:  training loss:0.15676\t validation accuracy:0.72720\n",
      "Epoch 18, CIFAR-10 Batch 3:  training loss:0.12492\t validation accuracy:0.72600\n",
      "Epoch 18, CIFAR-10 Batch 4:  training loss:0.16988\t validation accuracy:0.72320\n",
      "Epoch 18, CIFAR-10 Batch 5:  training loss:0.12411\t validation accuracy:0.71280\n",
      "Epoch 19, CIFAR-10 Batch 1:  training loss:0.14129\t validation accuracy:0.72140\n",
      "Epoch 19, CIFAR-10 Batch 2:  training loss:0.19070\t validation accuracy:0.71940\n",
      "Epoch 19, CIFAR-10 Batch 3:  training loss:0.11751\t validation accuracy:0.70700\n",
      "Epoch 19, CIFAR-10 Batch 4:  training loss:0.14750\t validation accuracy:0.72140\n",
      "Epoch 19, CIFAR-10 Batch 5:  training loss:0.10247\t validation accuracy:0.71300\n",
      "Epoch 20, CIFAR-10 Batch 1:  training loss:0.17890\t validation accuracy:0.72880\n",
      "Epoch 20, CIFAR-10 Batch 2:  training loss:0.12838\t validation accuracy:0.72460\n",
      "Epoch 20, CIFAR-10 Batch 3:  training loss:0.09371\t validation accuracy:0.73380\n",
      "Epoch 20, CIFAR-10 Batch 4:  training loss:0.16345\t validation accuracy:0.71660\n",
      "Epoch 20, CIFAR-10 Batch 5:  training loss:0.10649\t validation accuracy:0.72280\n",
      "Epoch 21, CIFAR-10 Batch 1:  training loss:0.17041\t validation accuracy:0.72620\n",
      "Epoch 21, CIFAR-10 Batch 2:  training loss:0.13385\t validation accuracy:0.72220\n"
     ]
    },
    {
     "name": "stdout",
     "output_type": "stream",
     "text": [
      "Epoch 21, CIFAR-10 Batch 3:  training loss:0.08347\t validation accuracy:0.73060\n",
      "Epoch 21, CIFAR-10 Batch 4:  training loss:0.11507\t validation accuracy:0.71680\n",
      "Epoch 21, CIFAR-10 Batch 5:  training loss:0.10814\t validation accuracy:0.71500\n",
      "Epoch 22, CIFAR-10 Batch 1:  training loss:0.11346\t validation accuracy:0.73020\n",
      "Epoch 22, CIFAR-10 Batch 2:  training loss:0.15715\t validation accuracy:0.71520\n",
      "Epoch 22, CIFAR-10 Batch 3:  training loss:0.10063\t validation accuracy:0.71820\n",
      "Epoch 22, CIFAR-10 Batch 4:  training loss:0.10594\t validation accuracy:0.72280\n",
      "Epoch 22, CIFAR-10 Batch 5:  training loss:0.10723\t validation accuracy:0.71640\n",
      "Epoch 23, CIFAR-10 Batch 1:  training loss:0.11751\t validation accuracy:0.72160\n",
      "Epoch 23, CIFAR-10 Batch 2:  training loss:0.10333\t validation accuracy:0.72080\n",
      "Epoch 23, CIFAR-10 Batch 3:  training loss:0.07434\t validation accuracy:0.72280\n",
      "Epoch 23, CIFAR-10 Batch 4:  training loss:0.07853\t validation accuracy:0.73420\n",
      "Epoch 23, CIFAR-10 Batch 5:  training loss:0.09112\t validation accuracy:0.72800\n",
      "Epoch 24, CIFAR-10 Batch 1:  training loss:0.08457\t validation accuracy:0.73100\n",
      "Epoch 24, CIFAR-10 Batch 2:  training loss:0.06975\t validation accuracy:0.72820\n",
      "Epoch 24, CIFAR-10 Batch 3:  training loss:0.07626\t validation accuracy:0.72580\n",
      "Epoch 24, CIFAR-10 Batch 4:  training loss:0.12359\t validation accuracy:0.70980\n",
      "Epoch 24, CIFAR-10 Batch 5:  training loss:0.07678\t validation accuracy:0.71640\n",
      "Epoch 25, CIFAR-10 Batch 1:  training loss:0.07509\t validation accuracy:0.72640\n",
      "Epoch 25, CIFAR-10 Batch 2:  training loss:0.08021\t validation accuracy:0.72220\n",
      "Epoch 25, CIFAR-10 Batch 3:  training loss:0.04120\t validation accuracy:0.72220\n",
      "Epoch 25, CIFAR-10 Batch 4:  training loss:0.06375\t validation accuracy:0.72640\n",
      "Epoch 25, CIFAR-10 Batch 5:  training loss:0.05401\t validation accuracy:0.72120\n"
     ]
    }
   ],
   "source": [
    "\"\"\"\n",
    "DON'T MODIFY ANYTHING IN THIS CELL\n",
    "\"\"\"\n",
    "save_model_path = './image_classification'\n",
    "\n",
    "print('Training...')\n",
    "with tf.Session() as sess:\n",
    "    # Initializing the variables\n",
    "    sess.run(tf.global_variables_initializer())\n",
    "    \n",
    "    # Training cycle\n",
    "    for epoch in range(epochs):\n",
    "        # Loop over all batches\n",
    "        n_batches = 5\n",
    "        for batch_i in range(1, n_batches + 1):\n",
    "            for batch_features, batch_labels in helper.load_preprocess_training_batch(batch_i, batch_size):\n",
    "                train_neural_network(sess, optimizer, keep_probability, batch_features, batch_labels)\n",
    "            print('Epoch {:>2}, CIFAR-10 Batch {}:  '.format(epoch + 1, batch_i), end='')\n",
    "            print_stats(sess, batch_features, batch_labels, cost, accuracy)\n",
    "            \n",
    "    # Save Model\n",
    "    saver = tf.train.Saver()\n",
    "    save_path = saver.save(sess, save_model_path)"
   ]
  },
  {
   "cell_type": "markdown",
   "metadata": {},
   "source": [
    "# Checkpoint\n",
    "The model has been saved to disk.\n",
    "## Test Model\n",
    "Test your model against the test dataset.  This will be your final accuracy. You should have an accuracy greater than 50%. If you don't, keep tweaking the model architecture and parameters."
   ]
  },
  {
   "cell_type": "code",
   "execution_count": 29,
   "metadata": {},
   "outputs": [
    {
     "name": "stdout",
     "output_type": "stream",
     "text": [
      "INFO:tensorflow:Restoring parameters from ./image_classification\n",
      "Testing Accuracy: 0.7174643987341772\n",
      "\n"
     ]
    },
    {
     "data": {
      "image/png": "[encoded data removed]",
      "text/plain": [
       "<matplotlib.figure.Figure at 0x7f02c0ab37f0>"
      ]
     },
     "metadata": {
      "image/png": {
       "height": 319,
       "width": 355
      }
     },
     "output_type": "display_data"
    }
   ],
   "source": [
    "\"\"\"\n",
    "DON'T MODIFY ANYTHING IN THIS CELL\n",
    "\"\"\"\n",
    "%matplotlib inline\n",
    "%config InlineBackend.figure_format = 'retina'\n",
    "\n",
    "import tensorflow as tf\n",
    "import pickle\n",
    "import helper\n",
    "import random\n",
    "\n",
    "# Set batch size if not already set\n",
    "try:\n",
    "    if batch_size:\n",
    "        pass\n",
    "except NameError:\n",
    "    batch_size = 64\n",
    "\n",
    "save_model_path = './image_classification'\n",
    "n_samples = 4\n",
    "top_n_predictions = 3\n",
    "\n",
    "def test_model():\n",
    "    \"\"\"\n",
    "    Test the saved model against the test dataset\n",
    "    \"\"\"\n",
    "\n",
    "    test_features, test_labels = pickle.load(open('preprocess_training.p', mode='rb'))\n",
    "    loaded_graph = tf.Graph()\n",
    "\n",
    "    with tf.Session(graph=loaded_graph) as sess:\n",
    "        # Load model\n",
    "        loader = tf.train.import_meta_graph(save_model_path + '.meta')\n",
    "        loader.restore(sess, save_model_path)\n",
    "\n",
    "        # Get Tensors from loaded model\n",
    "        loaded_x = loaded_graph.get_tensor_by_name('x:0')\n",
    "        loaded_y = loaded_graph.get_tensor_by_name('y:0')\n",
    "        loaded_keep_prob = loaded_graph.get_tensor_by_name('keep_prob:0')\n",
    "        loaded_logits = loaded_graph.get_tensor_by_name('logits:0')\n",
    "        loaded_acc = loaded_graph.get_tensor_by_name('accuracy:0')\n",
    "        \n",
    "        # Get accuracy in batches for memory limitations\n",
    "        test_batch_acc_total = 0\n",
    "        test_batch_count = 0\n",
    "        \n",
    "        for train_feature_batch, train_label_batch in helper.batch_features_labels(test_features, test_labels, batch_size):\n",
    "            test_batch_acc_total += sess.run(\n",
    "                loaded_acc,\n",
    "                feed_dict={loaded_x: train_feature_batch, loaded_y: train_label_batch, loaded_keep_prob: 1.0})\n",
    "            test_batch_count += 1\n",
    "\n",
    "        print('Testing Accuracy: {}\\n'.format(test_batch_acc_total/test_batch_count))\n",
    "\n",
    "        # Print Random Samples\n",
    "        random_test_features, random_test_labels = tuple(zip(*random.sample(list(zip(test_features, test_labels)), n_samples)))\n",
    "        random_test_predictions = sess.run(\n",
    "            tf.nn.top_k(tf.nn.softmax(loaded_logits), top_n_predictions),\n",
    "            feed_dict={loaded_x: random_test_features, loaded_y: random_test_labels, loaded_keep_prob: 1.0})\n",
    "        helper.display_image_predictions(random_test_features, random_test_labels, random_test_predictions)\n",
    "\n",
    "\n",
    "test_model()"
   ]
  },
  {
   "cell_type": "markdown",
   "metadata": {},
   "source": [
    "## Why 50-80% Accuracy?\n",
    "You might be wondering why you can't get an accuracy any higher. First things first, 50% isn't bad for a simple CNN.  Pure guessing would get you 10% accuracy. That's because there are many more techniques that can be applied to your model and we recemmond that once you are done with this project, you explore!\n",
    "\n",
    "## Submitting This Project\n",
    "When submitting this project, make sure to run all the cells before saving the notebook.  Save the notebook file as \"image_classification.ipynb\" and save it as a HTML file under \"File\" -> \"Download as\".  Include the \"helper.py\" and \"problem_unittests.py\" files in your submission."
   ]
  }
 ],
 "metadata": {
  "kernelspec": {
   "display_name": "Python 3",
   "language": "python",
   "name": "python3"
  },
  "language_info": {
   "codemirror_mode": {
    "name": "ipython",
    "version": 3
   },
   "file_extension": ".py",
   "mimetype": "text/x-python",
   "name": "python",
   "nbconvert_exporter": "python",
   "pygments_lexer": "ipython3",
   "version": "3.5.3"
  }
 },
 "nbformat": 4,
 "nbformat_minor": 1
}
